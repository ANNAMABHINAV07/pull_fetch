{
 "cells": [
  
   "cell_type": "code",
   "execution_count": 8,
   "id": "ddf434da-b532-42d0-ae99-0b7ee5f24e5c",
   "metadata": {},
   "outputs": [],
   "source": [
    "def full(n):\n",
    "    for i in range(1,n+1):\n",
    "        \n",
    "        for j in range(n-1):\n",
    "            print(\"\",end=\"\")\n",
    "            for k in range(1,2*i):\n",
    "                print(\"*\",end=\"\")\n",
    "\n"
   ]
  },
  {
   "cell_type": "code",
   "execution_count": null,
   "id": "ea831dc9-6a44-4906-b62c-860ca68acdd4",
   "metadata": {},
   "outputs": [],
   "source": []
  }
 ],
 "metadata": {
  "kernelspec": {
   "display_name": "Python 3 (ipykernel)",
   "language": "python",
   "name": "python3"
  },
  "language_info": {
   "codemirror_mode": {
    "name": "ipython",
    "version": 3
   },
   "file_extension": ".py",
   "mimetype": "text/x-python",
   "name": "python",
   "nbconvert_exporter": "python",
   "pygments_lexer": "ipython3",
   "version": "3.11.4"
  }
 },
 "nbformat": 4,
 "nbformat_minor": 5
}
